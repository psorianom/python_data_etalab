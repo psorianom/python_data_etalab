{
 "cells": [
  {
   "cell_type": "code",
   "execution_count": 3,
   "metadata": {},
   "outputs": [],
   "source": [
    "import pandas as pds"
   ]
  },
  {
   "cell_type": "code",
   "execution_count": 5,
   "metadata": {},
   "outputs": [],
   "source": [
    "df = pds.DataFrame()\n"
   ]
  },
  {
   "cell_type": "code",
   "execution_count": 23,
   "metadata": {},
   "outputs": [
    {
     "name": "stdout",
     "output_type": "stream",
     "text": [
      "All checks passed. Your Anaconda installation is up and running and ready for Data Carpentry!\n"
     ]
    }
   ],
   "source": [
    "# Author: Hugo Bowne-Anderson\n",
    "\n",
    "import sys\n",
    "from pkgutil import iter_modules\n",
    "\n",
    "\n",
    "# Thanks @ericmjl for function below.\n",
    "def check_import(packagename):\n",
    "    \"\"\"Checks whether a package is installed\"\"\"\n",
    "    if packagename in (name for _, name, _ in iter_modules()):\n",
    "        return True\n",
    "    else:\n",
    "        return False\n",
    "\n",
    "all_checks_passed = True\n",
    "\n",
    "# Throw error if Anaconda is not default Python\n",
    "# assert 'anaconda' in sys.prefix, (\"Anaconda is NOT installed as your \"\n",
    "#                                   \"default version of Python. Please \"\n",
    "#                                   \"make sure that is in accordance \"\n",
    "#                                   \"with the instructions provided.\")\n",
    "\n",
    "# Throw error if Python 3 is not default Python\n",
    "assert sys.version_info.major >= 3, 'Please install Python 3!'\n",
    "\n",
    "# Packages necessary for workshop\n",
    "packages = ['numpy', 'matplotlib', 'pandas', 'jupyter', 'ggplot']\n",
    "\n",
    "# Throw error if any of the necessary packages is not installed\n",
    "for p in packages:\n",
    "    assert check_import(p),\\\n",
    "        (\"{0} not present. You may have installed a subset of the\"\n",
    "         \"required distribution. Please install the entire Anaconda\"\n",
    "         \"distribution\").format(p)\n",
    "\n",
    "if all_checks_passed:\n",
    "    print(\"All checks passed. Your Anaconda installation is up and \"\n",
    "          \"running and ready for Data Carpentry!\")\n",
    "          "
   ]
  },
  {
   "cell_type": "code",
   "execution_count": 21,
   "metadata": {},
   "outputs": [
    {
     "name": "stdout",
     "output_type": "stream",
     "text": [
      "Collecting git+https://github.com/sushinoya/ggpy\n",
      "  Cloning https://github.com/sushinoya/ggpy to /tmp/pip-req-build-lnzh_een\n",
      "Requirement already satisfied: six in /opt/conda/lib/python3.6/site-packages (from ggplot==0.11.5) (1.11.0)\n",
      "Requirement already satisfied: statsmodels in /opt/conda/lib/python3.6/site-packages (from ggplot==0.11.5) (0.9.0)\n",
      "Requirement already satisfied: brewer2mpl in /opt/conda/lib/python3.6/site-packages (from ggplot==0.11.5) (1.4.1)\n",
      "Requirement already satisfied: matplotlib in /opt/conda/lib/python3.6/site-packages (from ggplot==0.11.5) (2.2.3)\n",
      "Requirement already satisfied: scipy in /opt/conda/lib/python3.6/site-packages (from ggplot==0.11.5) (1.1.0)\n",
      "Requirement already satisfied: patsy>=0.4 in /opt/conda/lib/python3.6/site-packages (from ggplot==0.11.5) (0.5.1)\n",
      "Requirement already satisfied: pandas in /opt/conda/lib/python3.6/site-packages (from ggplot==0.11.5) (0.23.4)\n",
      "Requirement already satisfied: cycler in /opt/conda/lib/python3.6/site-packages (from ggplot==0.11.5) (0.10.0)\n",
      "Requirement already satisfied: numpy in /opt/conda/lib/python3.6/site-packages (from ggplot==0.11.5) (1.13.3)\n",
      "Requirement already satisfied: pyparsing!=2.0.4,!=2.1.2,!=2.1.6,>=2.0.1 in /opt/conda/lib/python3.6/site-packages (from matplotlib->ggplot==0.11.5) (2.3.0)\n",
      "Requirement already satisfied: python-dateutil>=2.1 in /opt/conda/lib/python3.6/site-packages (from matplotlib->ggplot==0.11.5) (2.7.5)\n",
      "Requirement already satisfied: pytz in /opt/conda/lib/python3.6/site-packages (from matplotlib->ggplot==0.11.5) (2018.7)\n",
      "Requirement already satisfied: kiwisolver>=1.0.1 in /opt/conda/lib/python3.6/site-packages (from matplotlib->ggplot==0.11.5) (1.0.1)\n",
      "Requirement already satisfied: setuptools in /opt/conda/lib/python3.6/site-packages (from kiwisolver>=1.0.1->matplotlib->ggplot==0.11.5) (40.6.2)\n",
      "Building wheels for collected packages: ggplot\n",
      "  Running setup.py bdist_wheel for ggplot ... \u001b[?25ldone\n",
      "\u001b[?25h  Stored in directory: /tmp/pip-ephem-wheel-cache-mkhk8_cb/wheels/57/45/39/fd8099e124915971c3e352b59ad8fa224f39ae1c1a0445aaaa\n",
      "Successfully built ggplot\n",
      "Installing collected packages: ggplot\n",
      "Successfully installed ggplot-0.11.5\n"
     ]
    }
   ],
   "source": [
    "!  pip install git+https://github.com/sushinoya/ggpy"
   ]
  },
  {
   "cell_type": "code",
   "execution_count": 20,
   "metadata": {},
   "outputs": [
    {
     "name": "stdout",
     "output_type": "stream",
     "text": [
      "\u001b[33mSkipping ggpy as it is not installed.\u001b[0m\r\n"
     ]
    }
   ],
   "source": [
    "! pip uninstall ggpy"
   ]
  },
  {
   "cell_type": "code",
   "execution_count": 2,
   "metadata": {},
   "outputs": [],
   "source": [
    "import ggplot"
   ]
  },
  {
   "cell_type": "code",
   "execution_count": 8,
   "metadata": {},
   "outputs": [
    {
     "name": "stdout",
     "output_type": "stream",
     "text": [
      "42\n"
     ]
    }
   ],
   "source": [
    "def add_function(a, b):\n",
    "    result = a + b\n",
    "    return result\n",
    "\n",
    "z = add_function(20, 22)\n",
    "print(z)"
   ]
  },
  {
   "cell_type": "code",
   "execution_count": 6,
   "metadata": {},
   "outputs": [
    {
     "name": "stdout",
     "output_type": "stream",
     "text": [
      "Help on list object:\n",
      "\n",
      "class list(object)\n",
      " |  list() -> new empty list\n",
      " |  list(iterable) -> new list initialized from iterable's items\n",
      " |  \n",
      " |  Methods defined here:\n",
      " |  \n",
      " |  __add__(self, value, /)\n",
      " |      Return self+value.\n",
      " |  \n",
      " |  __contains__(self, key, /)\n",
      " |      Return key in self.\n",
      " |  \n",
      " |  __delitem__(self, key, /)\n",
      " |      Delete self[key].\n",
      " |  \n",
      " |  __eq__(self, value, /)\n",
      " |      Return self==value.\n",
      " |  \n",
      " |  __ge__(self, value, /)\n",
      " |      Return self>=value.\n",
      " |  \n",
      " |  __getattribute__(self, name, /)\n",
      " |      Return getattr(self, name).\n",
      " |  \n",
      " |  __getitem__(...)\n",
      " |      x.__getitem__(y) <==> x[y]\n",
      " |  \n",
      " |  __gt__(self, value, /)\n",
      " |      Return self>value.\n",
      " |  \n",
      " |  __iadd__(self, value, /)\n",
      " |      Implement self+=value.\n",
      " |  \n",
      " |  __imul__(self, value, /)\n",
      " |      Implement self*=value.\n",
      " |  \n",
      " |  __init__(self, /, *args, **kwargs)\n",
      " |      Initialize self.  See help(type(self)) for accurate signature.\n",
      " |  \n",
      " |  __iter__(self, /)\n",
      " |      Implement iter(self).\n",
      " |  \n",
      " |  __le__(self, value, /)\n",
      " |      Return self<=value.\n",
      " |  \n",
      " |  __len__(self, /)\n",
      " |      Return len(self).\n",
      " |  \n",
      " |  __lt__(self, value, /)\n",
      " |      Return self<value.\n",
      " |  \n",
      " |  __mul__(self, value, /)\n",
      " |      Return self*value.\n",
      " |  \n",
      " |  __ne__(self, value, /)\n",
      " |      Return self!=value.\n",
      " |  \n",
      " |  __new__(*args, **kwargs) from builtins.type\n",
      " |      Create and return a new object.  See help(type) for accurate signature.\n",
      " |  \n",
      " |  __repr__(self, /)\n",
      " |      Return repr(self).\n",
      " |  \n",
      " |  __reversed__(...)\n",
      " |      L.__reversed__() -- return a reverse iterator over the list\n",
      " |  \n",
      " |  __rmul__(self, value, /)\n",
      " |      Return value*self.\n",
      " |  \n",
      " |  __setitem__(self, key, value, /)\n",
      " |      Set self[key] to value.\n",
      " |  \n",
      " |  __sizeof__(...)\n",
      " |      L.__sizeof__() -- size of L in memory, in bytes\n",
      " |  \n",
      " |  append(...)\n",
      " |      L.append(object) -> None -- append object to end\n",
      " |  \n",
      " |  clear(...)\n",
      " |      L.clear() -> None -- remove all items from L\n",
      " |  \n",
      " |  copy(...)\n",
      " |      L.copy() -> list -- a shallow copy of L\n",
      " |  \n",
      " |  count(...)\n",
      " |      L.count(value) -> integer -- return number of occurrences of value\n",
      " |  \n",
      " |  extend(...)\n",
      " |      L.extend(iterable) -> None -- extend list by appending elements from the iterable\n",
      " |  \n",
      " |  index(...)\n",
      " |      L.index(value, [start, [stop]]) -> integer -- return first index of value.\n",
      " |      Raises ValueError if the value is not present.\n",
      " |  \n",
      " |  insert(...)\n",
      " |      L.insert(index, object) -- insert object before index\n",
      " |  \n",
      " |  pop(...)\n",
      " |      L.pop([index]) -> item -- remove and return item at index (default last).\n",
      " |      Raises IndexError if list is empty or index is out of range.\n",
      " |  \n",
      " |  remove(...)\n",
      " |      L.remove(value) -> None -- remove first occurrence of value.\n",
      " |      Raises ValueError if the value is not present.\n",
      " |  \n",
      " |  reverse(...)\n",
      " |      L.reverse() -- reverse *IN PLACE*\n",
      " |  \n",
      " |  sort(...)\n",
      " |      L.sort(key=None, reverse=False) -> None -- stable sort *IN PLACE*\n",
      " |  \n",
      " |  ----------------------------------------------------------------------\n",
      " |  Data and other attributes defined here:\n",
      " |  \n",
      " |  __hash__ = None\n",
      "\n"
     ]
    }
   ],
   "source": [
    "help(nombres)"
   ]
  },
  {
   "cell_type": "code",
   "execution_count": null,
   "metadata": {},
   "outputs": [],
   "source": []
  }
 ],
 "metadata": {
  "kernelspec": {
   "display_name": "Python 3",
   "language": "python",
   "name": "python3"
  },
  "language_info": {
   "codemirror_mode": {
    "name": "ipython",
    "version": 3
   },
   "file_extension": ".py",
   "mimetype": "text/x-python",
   "name": "python",
   "nbconvert_exporter": "python",
   "pygments_lexer": "ipython3",
   "version": "3.6.6"
  }
 },
 "nbformat": 4,
 "nbformat_minor": 2
}
